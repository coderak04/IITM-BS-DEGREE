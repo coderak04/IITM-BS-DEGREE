{
 "cells": [
  {
   "cell_type": "code",
   "execution_count": 97,
   "metadata": {},
   "outputs": [],
   "source": [
    "import numpy as np\n",
    "from sklearn.datasets import fetch_openml"
   ]
  },
  {
   "cell_type": "code",
   "execution_count": 17,
   "metadata": {},
   "outputs": [],
   "source": [
    "x,y=fetch_openml('mnist_784',version=1,return_X_y=True)"
   ]
  },
  {
   "cell_type": "code",
   "execution_count": 26,
   "metadata": {},
   "outputs": [
    {
     "data": {
      "text/plain": [
       "numpy.int32"
      ]
     },
     "execution_count": 26,
     "metadata": {},
     "output_type": "execute_result"
    }
   ],
   "source": [
    "X=x.to_numpy()\n",
    "Y=y.to_numpy()\n",
    "Y=Y.astype(int)\n",
    "type(Y[0])"
   ]
  },
  {
   "cell_type": "markdown",
   "metadata": {},
   "source": [
    "Load the MNIST dataset (mnist_784, version=1) from openml. How many number of samples are there in the dataset?"
   ]
  },
  {
   "cell_type": "code",
   "execution_count": 27,
   "metadata": {},
   "outputs": [
    {
     "data": {
      "text/plain": [
       "(70000, 784)"
      ]
     },
     "execution_count": 27,
     "metadata": {},
     "output_type": "execute_result"
    }
   ],
   "source": [
    "X.shape"
   ]
  },
  {
   "cell_type": "markdown",
   "metadata": {},
   "source": [
    "Access the sample at the index 2022.\n",
    "What is the label of the sample?  * What is the mean value of the sample?   * How many zeros are there in the sample?"
   ]
  },
  {
   "cell_type": "code",
   "execution_count": 28,
   "metadata": {},
   "outputs": [
    {
     "data": {
      "text/plain": [
       "2"
      ]
     },
     "execution_count": 28,
     "metadata": {},
     "output_type": "execute_result"
    }
   ],
   "source": [
    "Y[2022]"
   ]
  },
  {
   "cell_type": "code",
   "execution_count": 29,
   "metadata": {},
   "outputs": [
    {
     "data": {
      "text/plain": [
       "27.761479591836736"
      ]
     },
     "execution_count": 29,
     "metadata": {},
     "output_type": "execute_result"
    }
   ],
   "source": [
    "X[2022].mean()"
   ]
  },
  {
   "cell_type": "code",
   "execution_count": 37,
   "metadata": {},
   "outputs": [
    {
     "data": {
      "text/plain": [
       "643"
      ]
     },
     "execution_count": 37,
     "metadata": {},
     "output_type": "execute_result"
    }
   ],
   "source": [
    "np.count_nonzero(X[2022]==0)"
   ]
  },
  {
   "cell_type": "markdown",
   "metadata": {},
   "source": [
    "Create a dataset by taking first 10000 images for training and next 2000 images for testing from the original dataset. Answer the following questions.\n",
    "\n",
    "How many unique classes are there in the training set?\n",
    "The number of training samples for the digit-6 are?\n",
    "The number of training samples for the digit-9 are?\n",
    "How many unique classes are there in the test set?\n",
    "Which class has more number of test samples?"
   ]
  },
  {
   "cell_type": "code",
   "execution_count": 48,
   "metadata": {},
   "outputs": [
    {
     "data": {
      "text/plain": [
       "10"
      ]
     },
     "execution_count": 48,
     "metadata": {},
     "output_type": "execute_result"
    }
   ],
   "source": [
    "x_train,x_test,y_train,y_test=X[:10000],X[10000:12000],Y[:10000],Y[10000:12000]\n",
    "len(np.unique(y_train))"
   ]
  },
  {
   "cell_type": "code",
   "execution_count": 54,
   "metadata": {},
   "outputs": [
    {
     "data": {
      "text/plain": [
       "1014"
      ]
     },
     "execution_count": 54,
     "metadata": {},
     "output_type": "execute_result"
    }
   ],
   "source": [
    "np.sum(y_train==6)"
   ]
  },
  {
   "cell_type": "code",
   "execution_count": 55,
   "metadata": {},
   "outputs": [
    {
     "data": {
      "text/plain": [
       "978"
      ]
     },
     "execution_count": 55,
     "metadata": {},
     "output_type": "execute_result"
    }
   ],
   "source": [
    "np.sum(y_train==9)"
   ]
  },
  {
   "cell_type": "code",
   "execution_count": 56,
   "metadata": {},
   "outputs": [
    {
     "data": {
      "text/plain": [
       "10"
      ]
     },
     "execution_count": 56,
     "metadata": {},
     "output_type": "execute_result"
    }
   ],
   "source": [
    "len(np.unique(y_test))"
   ]
  },
  {
   "cell_type": "code",
   "execution_count": 63,
   "metadata": {},
   "outputs": [
    {
     "name": "stdout",
     "output_type": "stream",
     "text": [
      "{0: 205, 1: 224, 2: 185, 3: 196, 4: 204, 5: 185, 6: 194, 7: 209, 8: 183, 9: 215}\n",
      "1\n"
     ]
    }
   ],
   "source": [
    "unique_classes_test=np.unique(y_test)\n",
    "# Count the number of samples for each class in the test set\n",
    "test_samples_per_class = {cls: np.sum(y_test == cls) for cls in unique_classes_test}\n",
    "# Find the class with the maximum number of test samples\n",
    "class_with_most_test_samples = max(test_samples_per_class, key=test_samples_per_class.get)\n",
    "print(test_samples_per_class)\n",
    "print(class_with_most_test_samples)"
   ]
  },
  {
   "cell_type": "code",
   "execution_count": 64,
   "metadata": {},
   "outputs": [
    {
     "data": {
      "text/plain": [
       "1"
      ]
     },
     "execution_count": 64,
     "metadata": {},
     "output_type": "execute_result"
    }
   ],
   "source": [
    "count,bins=np.histogram(y_test,bins=10)\n",
    "np.argmax(count)\n"
   ]
  },
  {
   "cell_type": "code",
   "execution_count": 66,
   "metadata": {},
   "outputs": [
    {
     "name": "stdout",
     "output_type": "stream",
     "text": [
      "1014\n",
      "978\n"
     ]
    }
   ],
   "source": [
    "count,bins=np.histogram(y_train,bins=10)\n",
    "print(count[6])\n",
    "print(count[9])"
   ]
  },
  {
   "cell_type": "markdown",
   "metadata": {},
   "source": [
    "Consider the above modified training and testing sets with first 10000 images for training and next 2000 images for testing.\n",
    "\n",
    "Steps to be followed\n",
    "\n",
    "Collect all digit-6 (Positive class) and digit-9 (Negative class) images and stack them properly as a single datamatrix.\n",
    "By convention, keep all digit-6 images from index 0 to i followed by digit-9 images from index i+1 to n (i denotes the end index of digit-6 images)\n",
    "Similarly, collect the respective labels and store it in a variable (Do sanity check).\n",
    "Set the label values to 1 for positive classes and -1 for negative classes.\n",
    "Load \n",
    "1\n",
    "from sklearn.utils import shuffle\n",
    "Shuffle the datamatrix and labels. (Set \n",
    "1\n",
    "random_state\n",
    " value to 1729).\n",
    "what are the first three labels starting from the index 0?."
   ]
  },
  {
   "cell_type": "code",
   "execution_count": 82,
   "metadata": {},
   "outputs": [],
   "source": [
    "dig_6=np.where(y_train==6)[0]\n",
    "dig_9=np.where(y_train==9)[0]\n",
    "idx=np.concatenate((dig_6,dig_9))\n",
    "x_train1=x_train[idx]\n",
    "y_train1=np.concatenate((np.ones(len(dig_6)),-1*np.ones(len(dig_9))))"
   ]
  },
  {
   "cell_type": "code",
   "execution_count": 83,
   "metadata": {},
   "outputs": [
    {
     "data": {
      "text/plain": [
       "array([ 1., -1., -1.])"
      ]
     },
     "execution_count": 83,
     "metadata": {},
     "output_type": "execute_result"
    }
   ],
   "source": [
    "from sklearn.utils import shuffle\n",
    "x_train1,y_train1=shuffle(x_train1,y_train1,random_state=1729)\n",
    "y_train1[0:3]"
   ]
  },
  {
   "cell_type": "markdown",
   "metadata": {},
   "source": [
    "Instantiate a perceptron classifier that meets the following requirements\n",
    "\n",
    "random_state = 1729\n",
    "learning rate = 1\n",
    "Train for 10 iterations (epoch)\n",
    "Set shuffle the dataset for each epoch (iteration) as False.\n",
    "Include the intercept (bias) term.\n",
    "No regularization\n",
    "Fit the perceptron classifier on the training dataset. What is the value of \n",
    "�\n",
    "w for the 69th feature after 10 iterations?"
   ]
  },
  {
   "cell_type": "code",
   "execution_count": 84,
   "metadata": {},
   "outputs": [],
   "source": [
    "from sklearn.linear_model import Perceptron"
   ]
  },
  {
   "cell_type": "code",
   "execution_count": 103,
   "metadata": {},
   "outputs": [
    {
     "name": "stderr",
     "output_type": "stream",
     "text": [
      "C:\\Users\\Asus\\AppData\\Roaming\\Python\\Python312\\site-packages\\sklearn\\linear_model\\_stochastic_gradient.py:723: ConvergenceWarning: Maximum number of iteration reached before convergence. Consider increasing max_iter to improve the fit.\n",
      "  warnings.warn(\n"
     ]
    },
    {
     "data": {
      "text/plain": [
       "605.0"
      ]
     },
     "execution_count": 103,
     "metadata": {},
     "output_type": "execute_result"
    }
   ],
   "source": [
    "perceptron=Perceptron(random_state=1729,eta0=1,max_iter=10,shuffle=False)\n",
    "perceptron.fit(x_train1,y_train1)\n",
    "weights=perceptron.coef_[0,69]\n",
    "weights"
   ]
  },
  {
   "cell_type": "markdown",
   "metadata": {},
   "source": [
    "With respective to the above question and for the same settings.\n",
    " Which of the following is the sequence of bias (intercept) updates for the first 5 epochs?"
   ]
  },
  {
   "cell_type": "code",
   "execution_count": 104,
   "metadata": {},
   "outputs": [
    {
     "data": {
      "text/plain": [
       "[-1.0, -4.0, -4.0, -6.0, -5.0]"
      ]
     },
     "execution_count": 104,
     "metadata": {},
     "output_type": "execute_result"
    }
   ],
   "source": [
    "bias=[]\n",
    "perceptron1=Perceptron(random_state=1729,eta0=1,max_iter=1,shuffle=False)\n",
    "for i in range(5):\n",
    "    perceptron1.partial_fit(x_train1,y_train1,classes=np.unique(y_train1))\n",
    "    bias.append(perceptron1.intercept_[0])\n",
    "bias"
   ]
  },
  {
   "cell_type": "markdown",
   "metadata": {},
   "source": [
    "From the MNIST dataset, create a new dataset by taking first 10000 images for training and next 2000 images for testing.\n",
    "\n",
    "Collect all digit-5 (Positive class) and digit-3 (Negative class) images and stack them properly as a single datamatrix.\n",
    "By convention, keep all digit-5 images from index 0 to i followed by digit-3 images from index i+1 to n (i denotes the end index of digit-5 images)\n",
    "Similarly, collect the respective labels and store it in a variable (Do sanity check).\n",
    "Set the label values to 1 for positive class and -1 for negative class.\n",
    "Instantiate a perceptron classifier with the below parameters\n",
    "random_state = 42\n",
    "learning rate = 1\n",
    "Train for 100 iterations (epoch)\n",
    "Should shuffle the dataset for each epoch (iteration)\n",
    "Include the intercept (bias) term.\n",
    "No regularization\n",
    "Use the training set for fitting the perceptron model and use the test data to make the predictions"
   ]
  },
  {
   "cell_type": "code",
   "execution_count": 131,
   "metadata": {},
   "outputs": [],
   "source": [
    "dig_5_train=np.where(y_train==5)[0]\n",
    "dig_3_train=np.where(y_train==3)[0]\n",
    "dig_5_test=np.where(y_test==5)[0]\n",
    "dig_3_test=np.where(y_test==3)[0]\n",
    "index_train=np.concatenate((dig_5_train,dig_3_train))\n",
    "index_test=np.concatenate((dig_5_test,dig_3_test))\n",
    "x_train2=x_train[index_train]\n",
    "y_train2=np.concatenate((np.ones(len(dig_5_train)),-1*np.ones(len(dig_3_train))))\n",
    "x_test2=x_test[index_test]\n",
    "y_test2=np.concatenate((np.ones(len(dig_5_test)),-1*np.ones(len(dig_3_test))))"
   ]
  },
  {
   "cell_type": "code",
   "execution_count": 132,
   "metadata": {},
   "outputs": [
    {
     "name": "stdout",
     "output_type": "stream",
     "text": [
      "863\n",
      "1032\n"
     ]
    }
   ],
   "source": [
    "count1,bin1=np.histogram(y_train,bins=10)\n",
    "print(count1[5])\n",
    "print(count1[3])"
   ]
  },
  {
   "cell_type": "code",
   "execution_count": 133,
   "metadata": {},
   "outputs": [],
   "source": [
    "per=Perceptron(random_state=42,eta0=1,shuffle=True,max_iter=100,penalty=None,fit_intercept=True)\n",
    "per.fit(x_train2,y_train2)\n",
    "y_pred=per.predict(x_test2)"
   ]
  },
  {
   "cell_type": "code",
   "execution_count": 137,
   "metadata": {},
   "outputs": [],
   "source": [
    "from sklearn.metrics import ConfusionMatrixDisplay,accuracy_score,precision_score,recall_score"
   ]
  },
  {
   "cell_type": "code",
   "execution_count": 138,
   "metadata": {},
   "outputs": [
    {
     "name": "stdout",
     "output_type": "stream",
     "text": [
      "Accuracy score=  0.952755905511811\n",
      "Precision score=  0.9664804469273743\n",
      "Recall score=  0.9351351351351351\n"
     ]
    },
    {
     "data": {
      "image/png": "[encoded data removed]",
      "text/plain": [
       "<Figure size 640x480 with 2 Axes>"
      ]
     },
     "metadata": {},
     "output_type": "display_data"
    }
   ],
   "source": [
    "cmd=ConfusionMatrixDisplay.from_predictions(y_test2,y_pred)\n",
    "a=accuracy_score(y_test2,y_pred)\n",
    "p=precision_score(y_test2,y_pred)\n",
    "r=recall_score(y_test2,y_pred)\n",
    "print('Accuracy score= ',a)\n",
    "print('Precision score= ',p)\n",
    "print('Recall score= ',r)"
   ]
  },
  {
   "cell_type": "markdown",
   "metadata": {},
   "source": [
    "In the same model setup just change the shuffle parameter to False, refit the classifier on training data, make predictions on test data and observe the accuracy, precision score and recall score. Which of the following statements are True based on your observations?"
   ]
  },
  {
   "cell_type": "code",
   "execution_count": 141,
   "metadata": {},
   "outputs": [],
   "source": [
    "per1=Perceptron(random_state=42,eta0=1,shuffle=False,max_iter=100,penalty=None,fit_intercept=True)\n",
    "per1.fit(x_train2,y_train2)\n",
    "y_pred1=per1.predict(x_test2)"
   ]
  },
  {
   "cell_type": "code",
   "execution_count": 142,
   "metadata": {},
   "outputs": [
    {
     "name": "stdout",
     "output_type": "stream",
     "text": [
      "Accuracy score=  0.5485564304461942\n",
      "Precision score=  1.0\n",
      "Recall score=  0.07027027027027027\n"
     ]
    },
    {
     "data": {
      "image/png": "[encoded data removed]",
      "text/plain": [
       "<Figure size 640x480 with 2 Axes>"
      ]
     },
     "metadata": {},
     "output_type": "display_data"
    }
   ],
   "source": [
    "cmd=ConfusionMatrixDisplay.from_predictions(y_test2,y_pred)\n",
    "a1=accuracy_score(y_test2,y_pred1)\n",
    "p1=precision_score(y_test2,y_pred1)\n",
    "r1=recall_score(y_test2,y_pred1)\n",
    "print('Accuracy score= ',a1)\n",
    "print('Precision score= ',p1)\n",
    "print('Recall score= ',r1)"
   ]
  }
 ],
 "metadata": {
  "kernelspec": {
   "display_name": "Python 3",
   "language": "python",
   "name": "python3"
  },
  "language_info": {
   "codemirror_mode": {
    "name": "ipython",
    "version": 3
   },
   "file_extension": ".py",
   "mimetype": "text/x-python",
   "name": "python",
   "nbconvert_exporter": "python",
   "pygments_lexer": "ipython3",
   "version": "3.12.1"
  }
 },
 "nbformat": 4,
 "nbformat_minor": 2
}
