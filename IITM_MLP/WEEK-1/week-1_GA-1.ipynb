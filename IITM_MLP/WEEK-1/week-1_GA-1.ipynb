{
 "cells": [
  {
   "cell_type": "code",
   "execution_count": 3,
   "metadata": {},
   "outputs": [],
   "source": [
    "import pandas as pd\n",
    "import numpy as np"
   ]
  },
  {
   "cell_type": "code",
   "execution_count": 4,
   "metadata": {},
   "outputs": [
    {
     "data": {
      "text/html": [
       "<div>\n",
       "<style scoped>\n",
       "    .dataframe tbody tr th:only-of-type {\n",
       "        vertical-align: middle;\n",
       "    }\n",
       "\n",
       "    .dataframe tbody tr th {\n",
       "        vertical-align: top;\n",
       "    }\n",
       "\n",
       "    .dataframe thead th {\n",
       "        text-align: right;\n",
       "    }\n",
       "</style>\n",
       "<table border=\"1\" class=\"dataframe\">\n",
       "  <thead>\n",
       "    <tr style=\"text-align: right;\">\n",
       "      <th></th>\n",
       "      <th>Date</th>\n",
       "      <th>Year</th>\n",
       "      <th>Locality</th>\n",
       "      <th>Estimated Value</th>\n",
       "      <th>Sale Price</th>\n",
       "      <th>Property</th>\n",
       "      <th>Residential</th>\n",
       "      <th>num_rooms</th>\n",
       "      <th>num_bathrooms</th>\n",
       "      <th>carpet_area</th>\n",
       "      <th>property_tax_rate</th>\n",
       "      <th>Face</th>\n",
       "    </tr>\n",
       "  </thead>\n",
       "  <tbody>\n",
       "    <tr>\n",
       "      <th>0</th>\n",
       "      <td>2009-01-02</td>\n",
       "      <td>2009</td>\n",
       "      <td>Waterbury</td>\n",
       "      <td>111440.0</td>\n",
       "      <td>185000.0</td>\n",
       "      <td>Single Family</td>\n",
       "      <td>Detached House</td>\n",
       "      <td>3</td>\n",
       "      <td>3</td>\n",
       "      <td>996.0</td>\n",
       "      <td>1.025953</td>\n",
       "      <td>South</td>\n",
       "    </tr>\n",
       "    <tr>\n",
       "      <th>1</th>\n",
       "      <td>2009-01-02</td>\n",
       "      <td>2009</td>\n",
       "      <td>Bridgeport</td>\n",
       "      <td>124670.0</td>\n",
       "      <td>150000.0</td>\n",
       "      <td>Two Family</td>\n",
       "      <td>Duplex</td>\n",
       "      <td>4</td>\n",
       "      <td>3</td>\n",
       "      <td>1241.0</td>\n",
       "      <td>1.025953</td>\n",
       "      <td>South</td>\n",
       "    </tr>\n",
       "    <tr>\n",
       "      <th>2</th>\n",
       "      <td>2009-01-02</td>\n",
       "      <td>2009</td>\n",
       "      <td>Waterbury</td>\n",
       "      <td>55720.0</td>\n",
       "      <td>140000.0</td>\n",
       "      <td>Single Family</td>\n",
       "      <td>Detached House</td>\n",
       "      <td>3</td>\n",
       "      <td>2</td>\n",
       "      <td>910.0</td>\n",
       "      <td>1.025953</td>\n",
       "      <td>South</td>\n",
       "    </tr>\n",
       "    <tr>\n",
       "      <th>3</th>\n",
       "      <td>2009-01-02</td>\n",
       "      <td>2009</td>\n",
       "      <td>Bridgeport</td>\n",
       "      <td>4775276.0</td>\n",
       "      <td>272900.0</td>\n",
       "      <td>Single Family</td>\n",
       "      <td>Detached House</td>\n",
       "      <td>3</td>\n",
       "      <td>1</td>\n",
       "      <td>971.0</td>\n",
       "      <td>1.025953</td>\n",
       "      <td>East</td>\n",
       "    </tr>\n",
       "    <tr>\n",
       "      <th>4</th>\n",
       "      <td>2009-01-02</td>\n",
       "      <td>2009</td>\n",
       "      <td>Bridgeport</td>\n",
       "      <td>112351.0</td>\n",
       "      <td>210000.0</td>\n",
       "      <td>?</td>\n",
       "      <td>Detached House</td>\n",
       "      <td>3</td>\n",
       "      <td>2</td>\n",
       "      <td>1092.0</td>\n",
       "      <td>1.025953</td>\n",
       "      <td>East</td>\n",
       "    </tr>\n",
       "  </tbody>\n",
       "</table>\n",
       "</div>"
      ],
      "text/plain": [
       "         Date  Year    Locality  Estimated Value  Sale Price       Property  \\\n",
       "0  2009-01-02  2009   Waterbury         111440.0    185000.0  Single Family   \n",
       "1  2009-01-02  2009  Bridgeport         124670.0    150000.0     Two Family   \n",
       "2  2009-01-02  2009   Waterbury          55720.0    140000.0  Single Family   \n",
       "3  2009-01-02  2009  Bridgeport        4775276.0    272900.0  Single Family   \n",
       "4  2009-01-02  2009  Bridgeport         112351.0    210000.0              ?   \n",
       "\n",
       "      Residential  num_rooms  num_bathrooms  carpet_area  property_tax_rate  \\\n",
       "0  Detached House          3              3        996.0           1.025953   \n",
       "1          Duplex          4              3       1241.0           1.025953   \n",
       "2  Detached House          3              2        910.0           1.025953   \n",
       "3  Detached House          3              1        971.0           1.025953   \n",
       "4  Detached House          3              2       1092.0           1.025953   \n",
       "\n",
       "    Face  \n",
       "0  South  \n",
       "1  South  \n",
       "2  South  \n",
       "3   East  \n",
       "4   East  "
      ]
     },
     "execution_count": 4,
     "metadata": {},
     "output_type": "execute_result"
    }
   ],
   "source": [
    "df=pd.read_csv('V5.csv')\n",
    "df.head()"
   ]
  },
  {
   "cell_type": "markdown",
   "metadata": {},
   "source": [
    "How many unknown (\"?) values are present in the dataset? Remove/Delete unknown (\"?) values present in the dataset to make it null value.\n",
    "Remove/Delete - means it will show NAN in place of \"?\""
   ]
  },
  {
   "cell_type": "code",
   "execution_count": 5,
   "metadata": {},
   "outputs": [
    {
     "data": {
      "text/plain": [
       "Date                    0\n",
       "Year                    0\n",
       "Locality                0\n",
       "Estimated Value         0\n",
       "Sale Price              0\n",
       "Property             1823\n",
       "Residential             0\n",
       "num_rooms               0\n",
       "num_bathrooms           0\n",
       "carpet_area             0\n",
       "property_tax_rate       0\n",
       "Face                    0\n",
       "dtype: int64"
      ]
     },
     "execution_count": 5,
     "metadata": {},
     "output_type": "execute_result"
    }
   ],
   "source": [
    "unknown_count=(df=='?').sum()\n",
    "unknown_count"
   ]
  },
  {
   "cell_type": "code",
   "execution_count": 6,
   "metadata": {},
   "outputs": [
    {
     "data": {
      "text/html": [
       "<div>\n",
       "<style scoped>\n",
       "    .dataframe tbody tr th:only-of-type {\n",
       "        vertical-align: middle;\n",
       "    }\n",
       "\n",
       "    .dataframe tbody tr th {\n",
       "        vertical-align: top;\n",
       "    }\n",
       "\n",
       "    .dataframe thead th {\n",
       "        text-align: right;\n",
       "    }\n",
       "</style>\n",
       "<table border=\"1\" class=\"dataframe\">\n",
       "  <thead>\n",
       "    <tr style=\"text-align: right;\">\n",
       "      <th></th>\n",
       "      <th>Date</th>\n",
       "      <th>Year</th>\n",
       "      <th>Locality</th>\n",
       "      <th>Estimated Value</th>\n",
       "      <th>Sale Price</th>\n",
       "      <th>Property</th>\n",
       "      <th>Residential</th>\n",
       "      <th>num_rooms</th>\n",
       "      <th>num_bathrooms</th>\n",
       "      <th>carpet_area</th>\n",
       "      <th>property_tax_rate</th>\n",
       "      <th>Face</th>\n",
       "    </tr>\n",
       "  </thead>\n",
       "  <tbody>\n",
       "    <tr>\n",
       "      <th>0</th>\n",
       "      <td>2009-01-02</td>\n",
       "      <td>2009</td>\n",
       "      <td>Waterbury</td>\n",
       "      <td>111440.0</td>\n",
       "      <td>185000.0</td>\n",
       "      <td>Single Family</td>\n",
       "      <td>Detached House</td>\n",
       "      <td>3</td>\n",
       "      <td>3</td>\n",
       "      <td>996.0</td>\n",
       "      <td>1.025953</td>\n",
       "      <td>South</td>\n",
       "    </tr>\n",
       "    <tr>\n",
       "      <th>1</th>\n",
       "      <td>2009-01-02</td>\n",
       "      <td>2009</td>\n",
       "      <td>Bridgeport</td>\n",
       "      <td>124670.0</td>\n",
       "      <td>150000.0</td>\n",
       "      <td>Two Family</td>\n",
       "      <td>Duplex</td>\n",
       "      <td>4</td>\n",
       "      <td>3</td>\n",
       "      <td>1241.0</td>\n",
       "      <td>1.025953</td>\n",
       "      <td>South</td>\n",
       "    </tr>\n",
       "    <tr>\n",
       "      <th>2</th>\n",
       "      <td>2009-01-02</td>\n",
       "      <td>2009</td>\n",
       "      <td>Waterbury</td>\n",
       "      <td>55720.0</td>\n",
       "      <td>140000.0</td>\n",
       "      <td>Single Family</td>\n",
       "      <td>Detached House</td>\n",
       "      <td>3</td>\n",
       "      <td>2</td>\n",
       "      <td>910.0</td>\n",
       "      <td>1.025953</td>\n",
       "      <td>South</td>\n",
       "    </tr>\n",
       "    <tr>\n",
       "      <th>3</th>\n",
       "      <td>2009-01-02</td>\n",
       "      <td>2009</td>\n",
       "      <td>Bridgeport</td>\n",
       "      <td>4775276.0</td>\n",
       "      <td>272900.0</td>\n",
       "      <td>Single Family</td>\n",
       "      <td>Detached House</td>\n",
       "      <td>3</td>\n",
       "      <td>1</td>\n",
       "      <td>971.0</td>\n",
       "      <td>1.025953</td>\n",
       "      <td>East</td>\n",
       "    </tr>\n",
       "    <tr>\n",
       "      <th>4</th>\n",
       "      <td>2009-01-02</td>\n",
       "      <td>2009</td>\n",
       "      <td>Bridgeport</td>\n",
       "      <td>112351.0</td>\n",
       "      <td>210000.0</td>\n",
       "      <td>NaN</td>\n",
       "      <td>Detached House</td>\n",
       "      <td>3</td>\n",
       "      <td>2</td>\n",
       "      <td>1092.0</td>\n",
       "      <td>1.025953</td>\n",
       "      <td>East</td>\n",
       "    </tr>\n",
       "  </tbody>\n",
       "</table>\n",
       "</div>"
      ],
      "text/plain": [
       "         Date  Year    Locality  Estimated Value  Sale Price       Property  \\\n",
       "0  2009-01-02  2009   Waterbury         111440.0    185000.0  Single Family   \n",
       "1  2009-01-02  2009  Bridgeport         124670.0    150000.0     Two Family   \n",
       "2  2009-01-02  2009   Waterbury          55720.0    140000.0  Single Family   \n",
       "3  2009-01-02  2009  Bridgeport        4775276.0    272900.0  Single Family   \n",
       "4  2009-01-02  2009  Bridgeport         112351.0    210000.0            NaN   \n",
       "\n",
       "      Residential  num_rooms  num_bathrooms  carpet_area  property_tax_rate  \\\n",
       "0  Detached House          3              3        996.0           1.025953   \n",
       "1          Duplex          4              3       1241.0           1.025953   \n",
       "2  Detached House          3              2        910.0           1.025953   \n",
       "3  Detached House          3              1        971.0           1.025953   \n",
       "4  Detached House          3              2       1092.0           1.025953   \n",
       "\n",
       "    Face  \n",
       "0  South  \n",
       "1  South  \n",
       "2  South  \n",
       "3   East  \n",
       "4   East  "
      ]
     },
     "execution_count": 6,
     "metadata": {},
     "output_type": "execute_result"
    }
   ],
   "source": [
    "# Replace all \"?\" with NaN\n",
    "df.replace('?', np.nan, inplace=True)\n",
    "df.head()"
   ]
  },
  {
   "cell_type": "code",
   "execution_count": 7,
   "metadata": {},
   "outputs": [
    {
     "data": {
      "text/plain": [
       "(10000, 12)"
      ]
     },
     "execution_count": 7,
     "metadata": {},
     "output_type": "execute_result"
    }
   ],
   "source": [
    "df.shape"
   ]
  },
  {
   "cell_type": "markdown",
   "metadata": {},
   "source": [
    "What is the value present at the 692th indexed row and 0th indexed column in the data"
   ]
  },
  {
   "cell_type": "code",
   "execution_count": 6,
   "metadata": {},
   "outputs": [
    {
     "data": {
      "text/plain": [
       "'2009-11-16'"
      ]
     },
     "execution_count": 6,
     "metadata": {},
     "output_type": "execute_result"
    }
   ],
   "source": [
    "df.iloc[692,0]"
   ]
  },
  {
   "cell_type": "markdown",
   "metadata": {},
   "source": [
    "What is the value present at the 546th indexed row and 7th indexed column in the data"
   ]
  },
  {
   "cell_type": "code",
   "execution_count": 7,
   "metadata": {},
   "outputs": [
    {
     "data": {
      "text/plain": [
       "3"
      ]
     },
     "execution_count": 7,
     "metadata": {},
     "output_type": "execute_result"
    }
   ],
   "source": [
    "df.iloc[546,7]"
   ]
  },
  {
   "cell_type": "markdown",
   "metadata": {},
   "source": [
    "What are the unique values present in the Locality feature of the dataset?"
   ]
  },
  {
   "cell_type": "code",
   "execution_count": 8,
   "metadata": {},
   "outputs": [
    {
     "data": {
      "text/plain": [
       "array(['Waterbury', 'Bridgeport', 'Greenwich', 'Norwalk', nan,\n",
       "       'Fairfield', 'West Hartford', 'Stamford'], dtype=object)"
      ]
     },
     "execution_count": 8,
     "metadata": {},
     "output_type": "execute_result"
    }
   ],
   "source": [
    "df['Locality'].unique()"
   ]
  },
  {
   "cell_type": "markdown",
   "metadata": {},
   "source": [
    "Which of the following features have missing(NaN) values present in the dataset?\n"
   ]
  },
  {
   "cell_type": "code",
   "execution_count": 8,
   "metadata": {},
   "outputs": [
    {
     "data": {
      "text/plain": [
       "Date                    0\n",
       "Year                    0\n",
       "Locality             1253\n",
       "Estimated Value      1243\n",
       "Sale Price              0\n",
       "Property             1823\n",
       "Residential             0\n",
       "num_rooms               0\n",
       "num_bathrooms           0\n",
       "carpet_area          1229\n",
       "property_tax_rate       0\n",
       "Face                    0\n",
       "dtype: int64"
      ]
     },
     "execution_count": 8,
     "metadata": {},
     "output_type": "execute_result"
    }
   ],
   "source": [
    "df.isnull().sum()"
   ]
  },
  {
   "cell_type": "markdown",
   "metadata": {},
   "source": [
    "Which of the following feature has most missing(NaN) values present in the dataset?"
   ]
  },
  {
   "cell_type": "code",
   "execution_count": 10,
   "metadata": {},
   "outputs": [
    {
     "data": {
      "text/plain": [
       "Date                    0\n",
       "Year                    0\n",
       "Locality             1253\n",
       "Estimated Value      1243\n",
       "Sale Price              0\n",
       "Property             1823\n",
       "Residential             0\n",
       "num_rooms               0\n",
       "num_bathrooms           0\n",
       "carpet_area          1229\n",
       "property_tax_rate       0\n",
       "Face                    0\n",
       "dtype: int64"
      ]
     },
     "execution_count": 10,
     "metadata": {},
     "output_type": "execute_result"
    }
   ],
   "source": [
    "df.isnull().sum()"
   ]
  },
  {
   "cell_type": "markdown",
   "metadata": {},
   "source": [
    "\n",
    "Drop all the samples(rows) with missing values strictly greater than 2. How many samples remains after that "
   ]
  },
  {
   "cell_type": "markdown",
   "metadata": {},
   "source": [
    "Therefore, dropna(thresh=df.shape[1] - 2) will drop rows from the DataFrame df if they have fewer than (df.shape[1] - 2) non-null values. In other words, it retains rows that have at least two non-null values.\n",
    "\n",
    "For example, if a row has 12 columns and it has at least 10 non-null values, it will be retained. If a row has fewer than 10 non-null values, it will be dropped."
   ]
  },
  {
   "cell_type": "code",
   "execution_count": 11,
   "metadata": {},
   "outputs": [
    {
     "data": {
      "text/plain": [
       "(9917, 12)"
      ]
     },
     "execution_count": 11,
     "metadata": {},
     "output_type": "execute_result"
    }
   ],
   "source": [
    "df_copy=df.copy()\n",
    "df_cleaned = df_copy.dropna(thresh=df.shape[1] - 2)\n",
    "df_cleaned.shape"
   ]
  },
  {
   "cell_type": "markdown",
   "metadata": {},
   "source": [
    "Drop all the samples(rows) with missing values in the original dataframe . How many samples remains after that ?"
   ]
  },
  {
   "cell_type": "code",
   "execution_count": 10,
   "metadata": {},
   "outputs": [
    {
     "data": {
      "text/plain": [
       "(5449, 12)"
      ]
     },
     "execution_count": 10,
     "metadata": {},
     "output_type": "execute_result"
    }
   ],
   "source": [
    "x=df.dropna()\n",
    "x.shape"
   ]
  },
  {
   "cell_type": "markdown",
   "metadata": {},
   "source": [
    "GA-1.2"
   ]
  },
  {
   "cell_type": "markdown",
   "metadata": {},
   "source": [
    "\n",
    "Select all the even indexed rows from the given dataset. What is the value in the 3rd indexed column of the 0th indexed row in the selected dataframe. (row/ column indexed from zero(0) in python/pandas)"
   ]
  },
  {
   "cell_type": "code",
   "execution_count": 13,
   "metadata": {},
   "outputs": [
    {
     "data": {
      "text/plain": [
       "111440.0"
      ]
     },
     "execution_count": 13,
     "metadata": {},
     "output_type": "execute_result"
    }
   ],
   "source": [
    "even_rows=df.iloc[::2]\n",
    "even_rows.iloc[0,3]"
   ]
  },
  {
   "cell_type": "markdown",
   "metadata": {},
   "source": [
    "Select all the even indexed rows from the given dataset. What is the value in the 3rd indexed column of the 332th indexed row in the selected dataframe. (row/ column indexed from zero(0))"
   ]
  },
  {
   "cell_type": "code",
   "execution_count": 14,
   "metadata": {},
   "outputs": [
    {
     "data": {
      "text/plain": [
       "256200.0"
      ]
     },
     "execution_count": 14,
     "metadata": {},
     "output_type": "execute_result"
    }
   ],
   "source": [
    "even_rows.iloc[332,3]"
   ]
  },
  {
   "cell_type": "markdown",
   "metadata": {},
   "source": [
    "Select all the odd indexed rows from the given dataset. What is the value in the 3rd indexed column of the 332th indexed row in the selected dataframe. (row/ column indexed from zero(0))"
   ]
  },
  {
   "cell_type": "code",
   "execution_count": 15,
   "metadata": {},
   "outputs": [
    {
     "data": {
      "text/plain": [
       "352940.0"
      ]
     },
     "execution_count": 15,
     "metadata": {},
     "output_type": "execute_result"
    }
   ],
   "source": [
    "odd_rows=df.iloc[1::2]\n",
    "odd_rows.iloc[332,3]"
   ]
  },
  {
   "cell_type": "markdown",
   "metadata": {},
   "source": [
    "Select all the odd indexed columns from the given dataset. What is the value in the 5th indexed column of the 100th indexed row in the selected dataframe. (row/ column indexed from zero(0))"
   ]
  },
  {
   "cell_type": "code",
   "execution_count": 28,
   "metadata": {},
   "outputs": [
    {
     "data": {
      "text/plain": [
       "'West'"
      ]
     },
     "execution_count": 28,
     "metadata": {},
     "output_type": "execute_result"
    }
   ],
   "source": [
    "odd_col=df.iloc[:,1::2]\n",
    "odd_col.iloc[100,5]"
   ]
  },
  {
   "cell_type": "markdown",
   "metadata": {},
   "source": [
    "Select all the even indexed columns and even indexed rows from the given dataset. What is the value in the 3th indexed column of the 255th indexed row in the selected dataframe. (row/ column indexed/starts from zero(0))"
   ]
  },
  {
   "cell_type": "code",
   "execution_count": 13,
   "metadata": {},
   "outputs": [
    {
     "data": {
      "text/plain": [
       "'Detached House'"
      ]
     },
     "execution_count": 13,
     "metadata": {},
     "output_type": "execute_result"
    }
   ],
   "source": [
    "even_col=df.iloc[::2,::2]\n",
    "even_col.iloc[255,3]"
   ]
  },
  {
   "cell_type": "markdown",
   "metadata": {},
   "source": [
    "Determine the number of samples (rows) in the dataset that belong to the six most recent years, based on the provided data."
   ]
  },
  {
   "cell_type": "code",
   "execution_count": 18,
   "metadata": {},
   "outputs": [
    {
     "data": {
      "text/plain": [
       "4749"
      ]
     },
     "execution_count": 18,
     "metadata": {},
     "output_type": "execute_result"
    }
   ],
   "source": [
    "x=(df.Year>2016)\n",
    "x.sum()"
   ]
  },
  {
   "cell_type": "code",
   "execution_count": 19,
   "metadata": {},
   "outputs": [
    {
     "name": "stdout",
     "output_type": "stream",
     "text": [
      "Number of samples in the six most recent years: 4749\n"
     ]
    }
   ],
   "source": [
    "# Assuming the 'Year' column contains the information about the years\n",
    "# Convert the 'Year' column to datetime format\n",
    "df['Year'] = pd.to_datetime(df['Year'], format='%Y')\n",
    "\n",
    "# Sort the DataFrame based on the 'Year' column in descending order\n",
    "df_sorted = df.sort_values(by='Year', ascending=False)\n",
    "\n",
    "# Extract the six most recent years\n",
    "recent_years = df_sorted['Year'].unique()[:6]\n",
    "\n",
    "# Filter the DataFrame to include only rows from the six most recent years\n",
    "recent_years_data = df[df['Year'].isin(recent_years)]\n",
    "\n",
    "# Get the number of samples in the filtered DataFrame\n",
    "num_samples_recent_years = recent_years_data.shape[0]\n",
    "\n",
    "print(f'Number of samples in the six most recent years: {num_samples_recent_years}')\n"
   ]
  },
  {
   "cell_type": "markdown",
   "metadata": {},
   "source": [
    "Determine the number of samples (rows) in the dataset which has num_rooms = 3 and num_bathrooms = 3"
   ]
  },
  {
   "cell_type": "code",
   "execution_count": 20,
   "metadata": {},
   "outputs": [
    {
     "data": {
      "text/plain": [
       "2730"
      ]
     },
     "execution_count": 20,
     "metadata": {},
     "output_type": "execute_result"
    }
   ],
   "source": [
    "num=(df.num_rooms==3)&(df.num_bathrooms==3)\n",
    "num.sum()"
   ]
  },
  {
   "cell_type": "markdown",
   "metadata": {},
   "source": [
    "\n",
    "Determine the number of samples (rows) in the dataset which has num_rooms = 3 or num_bathrooms = 3"
   ]
  },
  {
   "cell_type": "code",
   "execution_count": 21,
   "metadata": {},
   "outputs": [
    {
     "data": {
      "text/plain": [
       "8591"
      ]
     },
     "execution_count": 21,
     "metadata": {},
     "output_type": "execute_result"
    }
   ],
   "source": [
    "num1=(df.num_rooms==3)|(df.num_bathrooms==3)\n",
    "num1.sum()"
   ]
  },
  {
   "cell_type": "markdown",
   "metadata": {},
   "source": [
    "In the Year 2022, how many houses (rows) located in the Greenwich Locality have exactly num_room == 3, and facing towards either the North or East"
   ]
  },
  {
   "cell_type": "code",
   "execution_count": 41,
   "metadata": {},
   "outputs": [
    {
     "data": {
      "text/plain": [
       "42"
      ]
     },
     "execution_count": 41,
     "metadata": {},
     "output_type": "execute_result"
    }
   ],
   "source": [
    "condition=((df.Year=='2022')&(df.Locality=='Greenwich')&(df.num_rooms==3)&(df.Face.isin(['North','East'])))\n",
    "condition.sum()"
   ]
  },
  {
   "cell_type": "markdown",
   "metadata": {},
   "source": [
    "\n",
    "Calculate the number of samples(rows) that correspond to the month of August across all the years.?"
   ]
  },
  {
   "cell_type": "code",
   "execution_count": 23,
   "metadata": {},
   "outputs": [
    {
     "data": {
      "text/plain": [
       "1050"
      ]
     },
     "execution_count": 23,
     "metadata": {},
     "output_type": "execute_result"
    }
   ],
   "source": [
    "# Assuming the 'Date' column is in datetime format\n",
    "df['Date'] = pd.to_datetime(df['Date'])\n",
    "\n",
    "# Filter rows corresponding to the month of August\n",
    "august_data = df['Date'].dt.month == 8\n",
    "august_data.sum()"
   ]
  },
  {
   "cell_type": "code",
   "execution_count": 24,
   "metadata": {},
   "outputs": [
    {
     "data": {
      "text/html": [
       "<div>\n",
       "<style scoped>\n",
       "    .dataframe tbody tr th:only-of-type {\n",
       "        vertical-align: middle;\n",
       "    }\n",
       "\n",
       "    .dataframe tbody tr th {\n",
       "        vertical-align: top;\n",
       "    }\n",
       "\n",
       "    .dataframe thead th {\n",
       "        text-align: right;\n",
       "    }\n",
       "</style>\n",
       "<table border=\"1\" class=\"dataframe\">\n",
       "  <thead>\n",
       "    <tr style=\"text-align: right;\">\n",
       "      <th></th>\n",
       "      <th>Date</th>\n",
       "      <th>Year</th>\n",
       "      <th>Locality</th>\n",
       "      <th>Estimated Value</th>\n",
       "      <th>Sale Price</th>\n",
       "      <th>Property</th>\n",
       "      <th>Residential</th>\n",
       "      <th>num_rooms</th>\n",
       "      <th>num_bathrooms</th>\n",
       "      <th>carpet_area</th>\n",
       "      <th>property_tax_rate</th>\n",
       "      <th>Face</th>\n",
       "    </tr>\n",
       "  </thead>\n",
       "  <tbody>\n",
       "    <tr>\n",
       "      <th>0</th>\n",
       "      <td>2009-01-02</td>\n",
       "      <td>2009-01-01</td>\n",
       "      <td>Waterbury</td>\n",
       "      <td>111440.0</td>\n",
       "      <td>185000.0</td>\n",
       "      <td>Single Family</td>\n",
       "      <td>Detached House</td>\n",
       "      <td>3</td>\n",
       "      <td>3</td>\n",
       "      <td>996.0</td>\n",
       "      <td>1.025953</td>\n",
       "      <td>South</td>\n",
       "    </tr>\n",
       "    <tr>\n",
       "      <th>1</th>\n",
       "      <td>2009-01-02</td>\n",
       "      <td>2009-01-01</td>\n",
       "      <td>Bridgeport</td>\n",
       "      <td>124670.0</td>\n",
       "      <td>150000.0</td>\n",
       "      <td>Two Family</td>\n",
       "      <td>Duplex</td>\n",
       "      <td>4</td>\n",
       "      <td>3</td>\n",
       "      <td>1241.0</td>\n",
       "      <td>1.025953</td>\n",
       "      <td>South</td>\n",
       "    </tr>\n",
       "    <tr>\n",
       "      <th>2</th>\n",
       "      <td>2009-01-02</td>\n",
       "      <td>2009-01-01</td>\n",
       "      <td>Waterbury</td>\n",
       "      <td>55720.0</td>\n",
       "      <td>140000.0</td>\n",
       "      <td>Single Family</td>\n",
       "      <td>Detached House</td>\n",
       "      <td>3</td>\n",
       "      <td>2</td>\n",
       "      <td>910.0</td>\n",
       "      <td>1.025953</td>\n",
       "      <td>South</td>\n",
       "    </tr>\n",
       "    <tr>\n",
       "      <th>3</th>\n",
       "      <td>2009-01-02</td>\n",
       "      <td>2009-01-01</td>\n",
       "      <td>Bridgeport</td>\n",
       "      <td>4775276.0</td>\n",
       "      <td>272900.0</td>\n",
       "      <td>Single Family</td>\n",
       "      <td>Detached House</td>\n",
       "      <td>3</td>\n",
       "      <td>1</td>\n",
       "      <td>971.0</td>\n",
       "      <td>1.025953</td>\n",
       "      <td>East</td>\n",
       "    </tr>\n",
       "    <tr>\n",
       "      <th>4</th>\n",
       "      <td>2009-01-02</td>\n",
       "      <td>2009-01-01</td>\n",
       "      <td>Bridgeport</td>\n",
       "      <td>112351.0</td>\n",
       "      <td>210000.0</td>\n",
       "      <td>NaN</td>\n",
       "      <td>Detached House</td>\n",
       "      <td>3</td>\n",
       "      <td>2</td>\n",
       "      <td>1092.0</td>\n",
       "      <td>1.025953</td>\n",
       "      <td>East</td>\n",
       "    </tr>\n",
       "  </tbody>\n",
       "</table>\n",
       "</div>"
      ],
      "text/plain": [
       "        Date       Year    Locality  Estimated Value  Sale Price  \\\n",
       "0 2009-01-02 2009-01-01   Waterbury         111440.0    185000.0   \n",
       "1 2009-01-02 2009-01-01  Bridgeport         124670.0    150000.0   \n",
       "2 2009-01-02 2009-01-01   Waterbury          55720.0    140000.0   \n",
       "3 2009-01-02 2009-01-01  Bridgeport        4775276.0    272900.0   \n",
       "4 2009-01-02 2009-01-01  Bridgeport         112351.0    210000.0   \n",
       "\n",
       "        Property     Residential  num_rooms  num_bathrooms  carpet_area  \\\n",
       "0  Single Family  Detached House          3              3        996.0   \n",
       "1     Two Family          Duplex          4              3       1241.0   \n",
       "2  Single Family  Detached House          3              2        910.0   \n",
       "3  Single Family  Detached House          3              1        971.0   \n",
       "4            NaN  Detached House          3              2       1092.0   \n",
       "\n",
       "   property_tax_rate   Face  \n",
       "0           1.025953  South  \n",
       "1           1.025953  South  \n",
       "2           1.025953  South  \n",
       "3           1.025953   East  \n",
       "4           1.025953   East  "
      ]
     },
     "execution_count": 24,
     "metadata": {},
     "output_type": "execute_result"
    }
   ],
   "source": [
    "df.head()"
   ]
  },
  {
   "cell_type": "markdown",
   "metadata": {},
   "source": [
    "According to the data which Locality have highest average Sale Price"
   ]
  },
  {
   "cell_type": "code",
   "execution_count": 16,
   "metadata": {},
   "outputs": [
    {
     "data": {
      "text/plain": [
       "'Greenwich'"
      ]
     },
     "execution_count": 16,
     "metadata": {},
     "output_type": "execute_result"
    }
   ],
   "source": [
    "avg_sales=df.groupby('Locality')['Sale Price'].mean()\n",
    "avg_sales.idxmax()"
   ]
  }
 ],
 "metadata": {
  "kernelspec": {
   "display_name": "Python 3",
   "language": "python",
   "name": "python3"
  },
  "language_info": {
   "codemirror_mode": {
    "name": "ipython",
    "version": 3
   },
   "file_extension": ".py",
   "mimetype": "text/x-python",
   "name": "python",
   "nbconvert_exporter": "python",
   "pygments_lexer": "ipython3",
   "version": "3.12.1"
  }
 },
 "nbformat": 4,
 "nbformat_minor": 2
}
