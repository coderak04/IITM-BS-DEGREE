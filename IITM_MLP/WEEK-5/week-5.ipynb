{
 "cells": [
  {
   "cell_type": "code",
   "execution_count": 1,
   "metadata": {},
   "outputs": [],
   "source": [
    "import pandas as pd\n",
    "from sklearn.metrics import explained_variance_score\n",
    "from sklearn.datasets import fetch_california_housing\n",
    "from sklearn.linear_model import SGDRegressor\n",
    "from sklearn.model_selection import train_test_split"
   ]
  },
  {
   "cell_type": "markdown",
   "metadata": {},
   "source": [
    "Write the function compute_explained_variance(y_true, y_pred) for calculating the explained variance score for a linear regression dataset. Here y_true is the true (actual) label and y_pred is the predicted label. The function should return the explained variance score. Consider, y_true = [7, 4, 9, 4] and y_pred = [8, 7, 12, 5].  For these labels, what is the output of the function 'compute_explained_variance'? (Enter your answer in four decimal places)"
   ]
  },
  {
   "cell_type": "code",
   "execution_count": 2,
   "metadata": {},
   "outputs": [],
   "source": [
    "def compute_explained_variance(y_true,y_pred):\n",
    "    exp_var=explained_variance_score(y_true,y_pred)\n",
    "    return exp_var"
   ]
  },
  {
   "cell_type": "code",
   "execution_count": 3,
   "metadata": {},
   "outputs": [
    {
     "data": {
      "text/plain": [
       "0.7777777777777778"
      ]
     },
     "execution_count": 3,
     "metadata": {},
     "output_type": "execute_result"
    }
   ],
   "source": [
    "y_true=[7,4,9,4]\n",
    "y_pred=[8,7,12,5]\n",
    "compute_explained_variance(y_true,y_pred)"
   ]
  },
  {
   "cell_type": "markdown",
   "metadata": {},
   "source": [
    "Write a function compute_score(X_train, y_train, X_test, y_test) to compute the score of SGDRegressor for predicting the house price of California Housing dataset. Write your code based on the following keypoints:"
   ]
  },
  {
   "cell_type": "code",
   "execution_count": 4,
   "metadata": {},
   "outputs": [],
   "source": [
    "from sklearn.preprocessing import StandardScaler\n",
    "from sklearn.pipeline import Pipeline"
   ]
  },
  {
   "cell_type": "code",
   "execution_count": 5,
   "metadata": {},
   "outputs": [],
   "source": [
    "features,target=fetch_california_housing(as_frame=True,return_X_y=True)\n",
    "x_train,x_test,y_train,y_test=train_test_split(features,target,test_size=0.3,random_state=1)"
   ]
  },
  {
   "cell_type": "code",
   "execution_count": 21,
   "metadata": {},
   "outputs": [],
   "source": [
    "def compute_score(x_train,y_train,x_test,y_test):\n",
    "    pipe=Pipeline(steps=[('scale',StandardScaler(with_mean=True,with_std=True)),\n",
    "                         ('sgd_reg',SGDRegressor(loss='squared_error',penalty='l1',alpha=0.01,random_state=1))])\n",
    "    pipe.fit(x_train,y_train)\n",
    "    score=pipe.score(x_test,y_test)\n",
    "    return score    "
   ]
  },
  {
   "cell_type": "code",
   "execution_count": 22,
   "metadata": {},
   "outputs": [
    {
     "data": {
      "text/plain": [
       "0.5951040704728554"
      ]
     },
     "execution_count": 22,
     "metadata": {},
     "output_type": "execute_result"
    }
   ],
   "source": [
    "compute_score(x_train,y_train,x_test,y_test)"
   ]
  },
  {
   "cell_type": "markdown",
   "metadata": {},
   "source": [
    "Write a code to predict the house price of California Housing dataset using GridSearchCV.\n",
    "\n",
    "Write your code based on the following keypoints:\n",
    "\n",
    "Split the California housing dataset into train and test set with 70:30 ratio with \n",
    "1\n",
    "random_state = 1\n",
    ".\n",
    "Import StandardScaler for scaling X_train and X_test to X_train_norm and X_test_norm \n",
    "1\n",
    "with_mean = True\n",
    " and \n",
    "1\n",
    "with_std = True\n",
    "Import SGDRegressor with \n",
    "1\n",
    "random_state = 1\n",
    "Pass SGDRegressor through GridSearchCV\n",
    "Hyperparamter tuning to be done over\n",
    "1\n",
    "loss\n",
    " as 'squared_error' or 'huber'\n",
    "1\n",
    "penalty\n",
    " as 'l1' or 'l2'\n",
    "1\n",
    "alpha\n",
    " as 0.1, 0.01, 0.001\n",
    "maximum number of passes as [1000,2000,5000]\n",
    "Cross Validation = 4\n",
    "Train the 'model' and compute the 'score' on test data"
   ]
  },
  {
   "cell_type": "code",
   "execution_count": 8,
   "metadata": {},
   "outputs": [],
   "source": [
    "from sklearn.model_selection import GridSearchCV"
   ]
  },
  {
   "cell_type": "markdown",
   "metadata": {},
   "source": [
    "Enter the value of the 'score'.(Enter your answer in four decimal places)"
   ]
  },
  {
   "cell_type": "code",
   "execution_count": 9,
   "metadata": {},
   "outputs": [
    {
     "data": {
      "text/plain": [
       "0.5951040704728554"
      ]
     },
     "execution_count": 9,
     "metadata": {},
     "output_type": "execute_result"
    }
   ],
   "source": [
    "ss=StandardScaler(with_mean=True,with_std=True)\n",
    "sgd=SGDRegressor(random_state=1)\n",
    "param_grid={'loss':['squared_error','huber'],\n",
    "            'penalty':['l1','l2'],\n",
    "            'alpha':[0.1,0.01,0.001],\n",
    "            'max_iter':[1000,2000,5000]}\n",
    "gridcv=GridSearchCV(sgd,param_grid=param_grid,cv=4,return_train_score=True)\n",
    "pipe=Pipeline(steps=[('scale',ss),\n",
    "                         ('sgd_reg',gridcv)])\n",
    "pipe.fit(x_train,y_train)\n",
    "pipe.score(x_test,y_test)"
   ]
  },
  {
   "cell_type": "code",
   "execution_count": 10,
   "metadata": {},
   "outputs": [
    {
     "data": {
      "text/plain": [
       "{'alpha': 0.01, 'loss': 'squared_error', 'max_iter': 1000, 'penalty': 'l1'}"
      ]
     },
     "execution_count": 10,
     "metadata": {},
     "output_type": "execute_result"
    }
   ],
   "source": [
    "pipe[-1].best_params_\n"
   ]
  },
  {
   "cell_type": "markdown",
   "metadata": {},
   "source": [
    "Pass Ridge Regression Model through GridSearchCV\n",
    "Hyperparamter tuning to be done over\n"
   ]
  },
  {
   "cell_type": "code",
   "execution_count": 11,
   "metadata": {},
   "outputs": [],
   "source": [
    "from sklearn.linear_model import Ridge"
   ]
  },
  {
   "cell_type": "code",
   "execution_count": 12,
   "metadata": {},
   "outputs": [
    {
     "data": {
      "text/plain": [
       "0.597145061224877"
      ]
     },
     "execution_count": 12,
     "metadata": {},
     "output_type": "execute_result"
    }
   ],
   "source": [
    "rid_reg=Ridge()\n",
    "parameters={'alpha':[0.5,0.1,0.05,0.01,0.005,0.001],\n",
    "            'fit_intercept':[True,False]}\n",
    "ridge=GridSearchCV(rid_reg,param_grid=parameters,cv=4)\n",
    "pipe1=Pipeline(steps=[('scale',ss),('ridge',ridge)])\n",
    "pipe1.fit(x_train,y_train)\n",
    "pipe1.score(x_test,y_test)"
   ]
  },
  {
   "cell_type": "code",
   "execution_count": 13,
   "metadata": {},
   "outputs": [
    {
     "data": {
      "text/plain": [
       "{'alpha': 0.5, 'fit_intercept': True}"
      ]
     },
     "execution_count": 13,
     "metadata": {},
     "output_type": "execute_result"
    }
   ],
   "source": [
    "pipe1.named_steps['ridge'].best_params_"
   ]
  },
  {
   "cell_type": "markdown",
   "metadata": {},
   "source": [
    "Write a code to predict the house price of California Housing dataset using GridSearchCV.\n",
    "\n",
    "Write your code based on the following keypoints:\n",
    "\n",
    "Split the California housing dataset into train and test set with 60:40 ratio with \n",
    "1\n",
    "random_state = 1\n",
    ".\n",
    "Import StandardScaler for scaling X_train and X_test to X_train_norm and X_test_norm \n",
    "1\n",
    "with_mean = True\n",
    " and \n",
    "1\n",
    "with_std = True\n",
    "Pass Lasso Model through GridSearchCV\n",
    "Hyperparamter tuning to be done over\n",
    "1\n",
    "alpha\n",
    " as 0.5,0.1,0.05,0.01,0.005,0.001\n",
    "With or without intercept\n",
    "Cross Validation = 6\n",
    "Train the 'model' and compute the 'score' on test data"
   ]
  },
  {
   "cell_type": "code",
   "execution_count": 14,
   "metadata": {},
   "outputs": [],
   "source": [
    "from sklearn.linear_model import Lasso\n",
    "X_train,X_test,Y_train,Y_test=train_test_split(features,target,test_size=0.4,random_state=1)"
   ]
  },
  {
   "cell_type": "code",
   "execution_count": 15,
   "metadata": {},
   "outputs": [
    {
     "data": {
      "text/plain": [
       "0.6047829320240279"
      ]
     },
     "execution_count": 15,
     "metadata": {},
     "output_type": "execute_result"
    }
   ],
   "source": [
    "las=Lasso()\n",
    "param={'alpha':[0.5,0.1,0.05,0.01,0.005,0.001],\n",
    "       'fit_intercept':[True,False]}\n",
    "las_cv=GridSearchCV(las,param_grid=param,cv=6)\n",
    "pipe2=Pipeline(steps=[('scale',ss),('lasso',las_cv)])\n",
    "pipe2.fit(X_train,Y_train)\n",
    "pipe2.score(X_test,Y_test)"
   ]
  },
  {
   "cell_type": "code",
   "execution_count": 16,
   "metadata": {},
   "outputs": [
    {
     "data": {
      "text/plain": [
       "{'alpha': 0.005, 'fit_intercept': True}"
      ]
     },
     "execution_count": 16,
     "metadata": {},
     "output_type": "execute_result"
    }
   ],
   "source": [
    "pipe2[-1].best_params_"
   ]
  }
 ],
 "metadata": {
  "kernelspec": {
   "display_name": "Python 3",
   "language": "python",
   "name": "python3"
  },
  "language_info": {
   "codemirror_mode": {
    "name": "ipython",
    "version": 3
   },
   "file_extension": ".py",
   "mimetype": "text/x-python",
   "name": "python",
   "nbconvert_exporter": "python",
   "pygments_lexer": "ipython3",
   "version": "3.12.1"
  }
 },
 "nbformat": 4,
 "nbformat_minor": 2
}
